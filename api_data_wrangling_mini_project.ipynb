{
 "cells": [
  {
   "cell_type": "markdown",
   "metadata": {},
   "source": [
    "This exercise will require you to pull some data from the Qunadl API. Qaundl is currently the most widely used aggregator of financial market data."
   ]
  },
  {
   "cell_type": "markdown",
   "metadata": {},
   "source": [
    "As a first step, you will need to register a free account on the http://www.quandl.com website."
   ]
  },
  {
   "cell_type": "markdown",
   "metadata": {},
   "source": [
    "After you register, you will be provided with a unique API key, that you should store:"
   ]
  },
  {
   "cell_type": "code",
   "execution_count": 4,
   "metadata": {},
   "outputs": [],
   "source": [
    "# Store the API key as a string - according to PEP8, constants are always named in all upper case\n",
    "API_KEY = 'CH4sMXk5RfN91xAHUPsK'"
   ]
  },
  {
   "cell_type": "markdown",
   "metadata": {},
   "source": [
    "Qaundl has a large number of data sources, but, unfortunately, most of them require a Premium subscription. Still, there are also a good number of free datasets."
   ]
  },
  {
   "cell_type": "markdown",
   "metadata": {},
   "source": [
    "For this mini project, we will focus on equities data from the Frankfurt Stock Exhange (FSE), which is available for free. We'll try and analyze the stock prices of a company called Carl Zeiss Meditec, which manufactures tools for eye examinations, as well as medical lasers for laser eye surgery: https://www.zeiss.com/meditec/int/home.html. The company is listed under the stock ticker AFX_X."
   ]
  },
  {
   "cell_type": "markdown",
   "metadata": {},
   "source": [
    "You can find the detailed Quandl API instructions here: https://docs.quandl.com/docs/time-series"
   ]
  },
  {
   "cell_type": "markdown",
   "metadata": {},
   "source": [
    "While there is a dedicated Python package for connecting to the Quandl API, we would prefer that you use the *requests* package, which can be easily downloaded using *pip* or *conda*. You can find the documentation for the package here: http://docs.python-requests.org/en/master/ "
   ]
  },
  {
   "cell_type": "markdown",
   "metadata": {},
   "source": [
    "Finally, apart from the *requests* package, you are encouraged to not use any third party Python packages, such as *pandas*, and instead focus on what's available in the Python Standard Library (the *collections* module might come in handy: https://pymotw.com/3/collections/ ).\n",
    "Also, since you won't have access to DataFrames, you are encouraged to us Python's native data structures - preferably dictionaries, though some questions can also be answered using lists.\n",
    "You can read more on these data structures here: https://docs.python.org/3/tutorial/datastructures.html"
   ]
  },
  {
   "cell_type": "markdown",
   "metadata": {},
   "source": [
    "Keep in mind that the JSON responses you will be getting from the API map almost one-to-one to Python's dictionaries. Unfortunately, they can be very nested, so make sure you read up on indexing dictionaries in the documentation provided above."
   ]
  },
  {
   "cell_type": "code",
   "execution_count": 67,
   "metadata": {},
   "outputs": [],
   "source": [
    "# First, import the relevant modules\n",
    "import requests\n",
    "import numpy as np"
   ]
  },
  {
   "cell_type": "code",
   "execution_count": 5,
   "metadata": {},
   "outputs": [],
   "source": [
    "# Now, call the Quandl API and pull out a small sample of the data (only one day) to get a glimpse\n",
    "# into the JSON structure that will be returned\n",
    "res = requests.get(\"https://www.quandl.com/api/v3/datasets/FSE/AFX_X.json?start_date=2020-09-18&end_date=2020-09-18&api_key=\"+API_KEY)"
   ]
  },
  {
   "cell_type": "code",
   "execution_count": 10,
   "metadata": {},
   "outputs": [
    {
     "data": {
      "text/plain": [
       "{'dataset': {'id': 10095370,\n",
       "  'dataset_code': 'AFX_X',\n",
       "  'database_code': 'FSE',\n",
       "  'name': 'Carl Zeiss Meditec (AFX_X)',\n",
       "  'description': 'Stock Prices for Carl Zeiss Meditec (2020-11-02) from the Frankfurt Stock Exchange.<br><br>Trading System: Xetra<br><br>ISIN: DE0005313704',\n",
       "  'refreshed_at': '2020-12-01T14:48:09.907Z',\n",
       "  'newest_available_date': '2020-12-01',\n",
       "  'oldest_available_date': '2000-06-07',\n",
       "  'column_names': ['Date',\n",
       "   'Open',\n",
       "   'High',\n",
       "   'Low',\n",
       "   'Close',\n",
       "   'Change',\n",
       "   'Traded Volume',\n",
       "   'Turnover',\n",
       "   'Last Price of the Day',\n",
       "   'Daily Traded Units',\n",
       "   'Daily Turnover'],\n",
       "  'frequency': 'daily',\n",
       "  'type': 'Time Series',\n",
       "  'premium': False,\n",
       "  'limit': None,\n",
       "  'transform': None,\n",
       "  'column_index': None,\n",
       "  'start_date': '2020-09-18',\n",
       "  'end_date': '2020-09-18',\n",
       "  'data': [['2020-09-18',\n",
       "    100.1,\n",
       "    101.2,\n",
       "    100.1,\n",
       "    101.2,\n",
       "    None,\n",
       "    209.0,\n",
       "    21100.8,\n",
       "    None,\n",
       "    None,\n",
       "    None]],\n",
       "  'collapse': None,\n",
       "  'order': None,\n",
       "  'database_id': 6129}}"
      ]
     },
     "execution_count": 10,
     "metadata": {},
     "output_type": "execute_result"
    }
   ],
   "source": [
    "# Inspect the JSON structure of the object you created, and take note of how nested it is,\n",
    "# as well as the overall structure\n",
    "df = res.json()\n",
    "df"
   ]
  },
  {
   "cell_type": "markdown",
   "metadata": {},
   "source": [
    "These are your tasks for this mini project:\n",
    "\n",
    "1. Collect data from the Franfurt Stock Exchange, for the ticker AFX_X, for the whole year 2017 (keep in mind that the date format is YYYY-MM-DD).\n",
    "2. Convert the returned JSON object into a Python dictionary.\n",
    "3. Calculate what the highest and lowest opening prices were for the stock in this period.\n",
    "4. What was the largest change in any one day (based on High and Low price)?\n",
    "5. What was the largest change between any two days (based on Closing Price)?\n",
    "6. What was the average daily trading volume during this year?\n",
    "7. (Optional) What was the median trading volume during this year. (Note: you may need to implement your own function for calculating the median.)"
   ]
  },
  {
   "cell_type": "code",
   "execution_count": 19,
   "metadata": {},
   "outputs": [],
   "source": [
    "#1\n",
    "res = requests.get(\"https://www.quandl.com/api/v3/datasets/FSE/AFX_X.json?start_date=2017-01-01&end_date=2017-12-31&api_key=\"+API_KEY)"
   ]
  },
  {
   "cell_type": "code",
   "execution_count": 24,
   "metadata": {},
   "outputs": [],
   "source": [
    "#2\n",
    "df_new = res.json()"
   ]
  },
  {
   "cell_type": "code",
   "execution_count": 85,
   "metadata": {},
   "outputs": [
    {
     "name": "stdout",
     "output_type": "stream",
     "text": [
      "High Prices are: [51.94 51.82 51.89 51.5 51.52 52.04 52.73 52.75 52.7 53.54 53.35 53.1\n",
      " 52.45 52.83 51.47 51.11 51.38 51.23 50.49 49.84 49.64 49.89 49.73 49.41\n",
      " 49.46 49.61 48.59 47.38 47.15 47.23 48.01 48.9 48.61 48.89 48.06 47.72\n",
      " 46.33 46.09 46.04 46.06 46.55 46.65 46.42 45.41 45.06 45.27 45.34 45.34\n",
      " 45.85 46.2 46.06 45.75 45.7 45.58 45.97 46.04 46.2 46.19 46.09 46.17\n",
      " 44.98 44.17 43.56 42.49 42.57 42.3 42.38 42.29 42.54 42.65 42.63 42.81\n",
      " 42.8 42.69 43.34 42.89 42.75 43.02 42.71 43.19 42.75 43.06 42.08 42.2\n",
      " 41.98 42.25 42.64 43.05 43.17 42.96 42.76 42.6 43.01 42.62 42.53 42.69\n",
      " 41.94 41.99 43.5 45.09 46.34 45.13 45.54 45.77 45.54 45.75 45.29 45.45\n",
      " 45.33 45.04 45.31 45.88 45.96 45.72 45.55 46.23 45.56 45.18 45.05 44.94\n",
      " 45.18 44.79 45.5 45.36 45.83 45.83 45.74 45.81 46.68 47.33 47.63 47.4\n",
      " 47.4 47.48 47.43 46.9 46.8 46.34 46.86 46.51 47.43 47.44 47.8 47.43 47.45\n",
      " 46.99 46.52 46.26 46.02 45.61 45.36 44.87 44.67 44.13 44.22 44.12 44.3\n",
      " 45.34 45.36 45.78 45.18 46.06 43.6 43.55 43.0 42.91 42.5 42.29 42.23\n",
      " 42.245 42.25 42.24 41.94 42.18 42.02 42.14 42.64 42.61 42.4 42.48 42.48\n",
      " 42.48 42.45 42.03 41.68 41.42 41.25 41.34 40.88 40.15 40.07 40.14 40.01\n",
      " 39.35 39.1 39.02 39.25 39.02 41.83 42.17 41.59 41.57 41.5 41.5 41.46\n",
      " 41.53 41.61 41.71 41.8 41.4 41.22 41.39 41.57 40.95 40.64 40.14 39.98\n",
      " 39.75 39.57 39.25 39.03 39.2 38.93 38.86 39.36 37.5 36.25 36.14 36.05\n",
      " 36.15 36.2 36.2 36.0 35.24 35.59 35.43 35.58 34.86 34.35 34.12 34.59\n",
      " 35.04 35.51 35.19 35.24 34.98 35.38 36.0 34.98 35.35 35.21 35.2 35.51\n",
      " 35.93 35.94]\n",
      "Low Prices are: [51.45 51.43 50.76 50.92 50.9 51.2 51.07 51.61 51.64 52.15 52.48 51.82\n",
      " 51.26 51.28 50.81 50.39 50.4 49.5 49.17 48.28 48.7 49.03 48.96 48.87\n",
      " 48.45 48.39 46.78 46.54 46.8 46.55 46.75 47.84 47.76 47.16 47.09 46.42\n",
      " 45.84 45.76 44.83 45.18 45.97 45.61 45.46 44.91 44.7 44.75 44.89 44.76\n",
      " 44.79 45.61 45.37 45.3 45.37 45.17 45.25 45.57 45.6 45.69 45.63 45.22\n",
      " 44.18 43.3 42.0 41.78 42.11 41.96 41.48 41.39 41.99 42.13 42.23 42.25\n",
      " 42.35 42.22 42.62 42.56 42.56 42.67 42.34 42.55 41.95 42.07 41.12 41.49\n",
      " 41.33 41.86 42.05 42.63 42.6 42.4 42.2 42.01 41.76 41.98 42.2 42.01 40.96\n",
      " 41.14 41.64 44.15 44.02 44.36 44.91 44.9 45.1 44.94 44.75 45.15 44.46\n",
      " 44.63 44.49 45.04 45.23 44.94 44.7 45.29 44.83 44.67 43.89 44.08 44.51\n",
      " 44.25 44.15 44.44 44.74 45.06 45.0 45.11 45.41 46.39 46.91 46.79 46.75\n",
      " 46.53 46.27 46.25 45.66 45.21 46.05 46.03 45.89 46.55 46.27 47.01 46.21\n",
      " 46.72 45.89 45.22 45.05 45.24 44.71 44.29 43.92 43.55 43.44 43.74 43.29\n",
      " 44.01 44.56 44.31 44.16 43.25 42.53 41.82 42.04 42.38 41.71 41.78 41.76\n",
      " 41.655 41.66 41.51 41.4 41.66 41.23 41.01 41.52 41.94 41.54 41.985 41.985\n",
      " 41.99 41.84 41.53 41.31 40.84 40.83 40.79 39.48 39.54 39.42 39.42 39.05\n",
      " 38.79 38.53 38.6 38.63 37.53 40.97 41.26 41.16 41.09 40.91 41.2 41.08\n",
      " 41.16 41.16 40.95 41.25 40.81 40.84 40.76 40.9 40.38 39.75 38.91 39.38\n",
      " 39.27 38.85 38.81 38.48 38.25 38.4 38.0 37.35 36.57 35.77 35.84 35.36\n",
      " 35.6 35.73 35.7 34.75 34.56 34.95 34.81 34.8 34.03 33.85 33.62 34.05\n",
      " 34.42 34.8 34.79 34.56 34.6 34.31 34.84 34.46 34.43 34.91 34.73 34.75\n",
      " 35.34 34.99]\n"
     ]
    }
   ],
   "source": [
    "#3\n",
    "#df_new['dataset']['column_names']\n",
    "#df_new['dataset']['column_names'][2:4]\n",
    "#type(df_new)\n",
    "df_high = np.array(df_new['dataset']['data'])[:,2]\n",
    "print(\"High Prices are: \" + str(df_high))\n",
    "df_low = np.array(df_new['dataset']['data'])[:,3]\n",
    "print(\"Low Prices are: \" + str(df_low))"
   ]
  },
  {
   "cell_type": "code",
   "execution_count": 98,
   "metadata": {},
   "outputs": [
    {
     "data": {
      "text/plain": [
       "2.8100000000000023"
      ]
     },
     "execution_count": 98,
     "metadata": {},
     "output_type": "execute_result"
    }
   ],
   "source": [
    "#4\n",
    "diff = 0\n",
    "for i in range(len(df_high)):\n",
    "    new = df_high[i]-df_low[i] \n",
    "    #print(new)\n",
    "    if new > diff:\n",
    "        diff = new\n",
    "diff"
   ]
  },
  {
   "cell_type": "code",
   "execution_count": 126,
   "metadata": {},
   "outputs": [
    {
     "data": {
      "text/plain": [
       "2.559999999999995"
      ]
     },
     "execution_count": 126,
     "metadata": {},
     "output_type": "execute_result"
    }
   ],
   "source": [
    "#5\n",
    "#df_new['dataset']['column_names']\n",
    "close_price = np.array(df_new['dataset']['data'])[:,4]\n",
    "close_price\n",
    "diff_days = -float('inf')\n",
    "for i in range(len(close_price)-1):\n",
    "    new = close_price[i+1]-close_price[i]\n",
    "    #print(new)\n",
    "    if new > diff_days:\n",
    "        diff_days = new\n",
    "    #print(diff_days)\n",
    "diff_days"
   ]
  },
  {
   "cell_type": "code",
   "execution_count": 134,
   "metadata": {},
   "outputs": [
    {
     "data": {
      "text/plain": [
       "89124.33725490196"
      ]
     },
     "execution_count": 134,
     "metadata": {},
     "output_type": "execute_result"
    }
   ],
   "source": [
    "#6\n",
    "#df_new['dataset']['column_names']\n",
    "trade_volume = np.array(df_new['dataset']['data'])[:,6]\n",
    "#type(trade_volume)\n",
    "average = np.mean(trade_volume)\n",
    "average"
   ]
  },
  {
   "cell_type": "code",
   "execution_count": 136,
   "metadata": {},
   "outputs": [
    {
     "data": {
      "text/plain": [
       "76286.0"
      ]
     },
     "execution_count": 136,
     "metadata": {},
     "output_type": "execute_result"
    }
   ],
   "source": [
    "#7\n",
    "median = np.median(trade_volume)\n",
    "median"
   ]
  }
 ],
 "metadata": {
  "kernelspec": {
   "display_name": "Python 3",
   "language": "python",
   "name": "python3"
  },
  "language_info": {
   "codemirror_mode": {
    "name": "ipython",
    "version": 3
   },
   "file_extension": ".py",
   "mimetype": "text/x-python",
   "name": "python",
   "nbconvert_exporter": "python",
   "pygments_lexer": "ipython3",
   "version": "3.8.5"
  }
 },
 "nbformat": 4,
 "nbformat_minor": 2
}
